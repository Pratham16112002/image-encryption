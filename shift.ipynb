{
 "cells": [
  {
   "cell_type": "code",
   "execution_count": null,
   "metadata": {},
   "outputs": [],
   "source": [
    "from PIL import Image\n",
    "from numpy import array\n",
    "import numpy as np\n",
    "import key\n",
    "import analysis\n",
    "import random\n",
    "\n",
    "# Loading the image\n",
    "img = Image.open('Lena.png')\n",
    "# making an array of the original image\n",
    "original_image_array = array(img)\n",
    "height, width = original_image_array.shape\n",
    "\n",
    "\n",
    "# Initialize the final image\n",
    "final_img = np.zeros((1024, 1024), dtype=np.uint8)\n",
    "padded_image = np.zeros((1024, 1024), dtype=np.uint8)\n",
    "padded_image[:512, :512] = original_image_array"
   ]
  },
  {
   "cell_type": "code",
   "execution_count": null,
   "metadata": {},
   "outputs": [],
   "source": [
    "\n",
    "# Creating k1 and k2 the inital conditions for latin square\n",
    "k1, x = key.coordinate_generator(1, 1024)\n",
    "k2, x = key.coordinate_generator(1, 1024, x)\n",
    "# Crearting the keyt to xor\n",
    "key3 = key.key_gen(1024, 1024, x)\n",
    "# Creating the latin square using left shift and right shift\n",
    "key1 = np.empty((0, 1024), dtype=int)\n",
    "key2 = np.empty((0, 1024), dtype=int)"
   ]
  },
  {
   "cell_type": "code",
   "execution_count": null,
   "metadata": {},
   "outputs": [],
   "source": [
    "def key1_generator(key1, k1):\n",
    "    for i in range(1024):\n",
    "        shifted_arr = np.roll(k1, i, axis=1)\n",
    "        key1 = np.vstack((key1, shifted_arr))\n",
    "    return key1\n",
    "\n",
    "\n",
    "def key2_generator(key2, k2):\n",
    "    for i in range(1024):\n",
    "        shifted_arr = np.roll(k2, i, axis=1)\n",
    "        key2 = np.vstack((key2, shifted_arr))\n",
    "    return key2"
   ]
  },
  {
   "cell_type": "code",
   "execution_count": null,
   "metadata": {},
   "outputs": [],
   "source": [
    "def chaotic_shuffle(final_img, key1, key2, key3):\n",
    "    # Chaotic shuffle and xor the final key\n",
    "    for i in range(1024):\n",
    "        for j in range(1024):\n",
    "            if (key1[i, j] < 512) and (key2[i, j] < 512):\n",
    "                final_img[i, j] = original_image_array[key1[i, j], key2[i, j]]\n",
    "    final_img = key.keyxor(final_img, key3)\n",
    "    return final_img\n"
   ]
  },
  {
   "cell_type": "code",
   "execution_count": 14,
   "metadata": {},
   "outputs": [],
   "source": [
    "key1 = key1_generator(key1, k1)\n",
    "key2 = key2_generator(key2, k2)"
   ]
  },
  {
   "cell_type": "code",
   "execution_count": null,
   "metadata": {},
   "outputs": [],
   "source": [
    "np.savetxt('key1.csv', key1, delimiter=',')\n",
    "np.savetxt('key2.csv', key2, delimiter=',')"
   ]
  },
  {
   "cell_type": "code",
   "execution_count": null,
   "metadata": {},
   "outputs": [],
   "source": [
    "final_img = chaotic_shuffle(final_img, key1, key2, key3)"
   ]
  },
  {
   "cell_type": "code",
   "execution_count": null,
   "metadata": {},
   "outputs": [],
   "source": [
    "\n",
    "# analysis\n",
    "print(\"CC: \", analysis.correlation_coefficient(padded_image, final_img))\n",
    "img2 = np.copy(original_image_array)\n",
    "x = random.randint(0, 255)\n",
    "y = random.randint(0, 255)\n",
    "img2[x][y] = random.randint(0, 255)\n",
    "img2 = chaotic_shuffle(img2, key1, key2, key3)\n",
    "analysis.histogram(original_image_array, final_img)\n",
    "npcr, uaci = analysis.NPCR_UACI_worker(original_image_array, img2)\n",
    "print(\"npcr: \", npcr, \"%\\tUaci: \", uaci, \"%\")\n",
    "print(\"Entropy\", analysis.entropy(final_img))"
   ]
  },
  {
   "cell_type": "code",
   "execution_count": null,
   "metadata": {},
   "outputs": [],
   "source": [
    "k = Image.fromarray(final_img)\n",
    "k.save('./pics/final1903.png')"
   ]
  }
 ],
 "metadata": {
  "kernelspec": {
   "display_name": "image-encryption-DiZABboh",
   "language": "python",
   "name": "python3"
  },
  "language_info": {
   "codemirror_mode": {
    "name": "ipython",
    "version": 3
   },
   "file_extension": ".py",
   "mimetype": "text/x-python",
   "name": "python",
   "nbconvert_exporter": "python",
   "pygments_lexer": "ipython3",
   "version": "3.10.9"
  },
  "orig_nbformat": 4
 },
 "nbformat": 4,
 "nbformat_minor": 2
}
