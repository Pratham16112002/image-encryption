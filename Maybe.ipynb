{
 "cells": [
  {
   "cell_type": "code",
   "execution_count": 1,
   "metadata": {},
   "outputs": [],
   "source": [
    "from PIL import Image \n",
    "import random\n",
    "from numpy import array \n",
    "import numpy as np\n",
    "img = Image.open('Lena.png')\n",
    "\n",
    "ar = array(img)"
   ]
  },
  {
   "cell_type": "code",
   "execution_count": 2,
   "metadata": {},
   "outputs": [
    {
     "name": "stdout",
     "output_type": "stream",
     "text": [
      "[[160 160 160 ... 169 154 129]\n",
      " [161 160 159 ... 168 154 129]\n",
      " [160 161 160 ... 168 154 129]\n",
      " ...\n",
      " [ 50  49  55 ... 106 103 104]\n",
      " [ 49  50  58 ... 107 109 111]\n",
      " [ 50  49  59 ... 107 108 112]]\n"
     ]
    }
   ],
   "source": [
    "print(ar)"
   ]
  },
  {
   "cell_type": "code",
   "execution_count": 19,
   "metadata": {},
   "outputs": [
    {
     "ename": "KeyboardInterrupt",
     "evalue": "",
     "output_type": "error",
     "traceback": [
      "\u001b[0;31m---------------------------------------------------------------------------\u001b[0m",
      "\u001b[0;31mKeyboardInterrupt\u001b[0m                         Traceback (most recent call last)",
      "Cell \u001b[0;32mIn[19], line 7\u001b[0m\n\u001b[1;32m      5\u001b[0m p,q\u001b[39m=\u001b[39mi,j\n\u001b[1;32m      6\u001b[0m \u001b[39mwhile\u001b[39;00m p \u001b[39m<\u001b[39m\u001b[39m=\u001b[39mi\u001b[39m+\u001b[39m\u001b[39m4\u001b[39m:\n\u001b[0;32m----> 7\u001b[0m     \u001b[39mwhile\u001b[39;00m q  \u001b[39m<\u001b[39m\u001b[39m=\u001b[39mj\u001b[39m+\u001b[39m\u001b[39m4\u001b[39m:\n\u001b[1;32m      8\u001b[0m         new[m][n] \u001b[39m=\u001b[39m ar[p][q]\n\u001b[1;32m      9\u001b[0m         n\u001b[39m=\u001b[39m\u001b[39m+\u001b[39m\u001b[39m1\u001b[39m\n",
      "\u001b[0;31mKeyboardInterrupt\u001b[0m: "
     ]
    }
   ],
   "source": [
    "new = np.zeros((4,4))\n",
    "for i in range(0,len(ar),4):\n",
    "    for j in range(0,len(ar[i]),4):\n",
    "        m,n=0,0\n",
    "        p,q=i,j\n",
    "        while p <=i+4:\n",
    "            while q  <=j+4:\n",
    "                new[m][n] = ar[p][q]\n",
    "                n=+1\n",
    "                q+=1\n",
    "            m=+1\n",
    "            p=+1\n",
    "            n=0\n",
    "            q=j\n",
    "        print(\"Printing {}{}\".format(i,j))\n",
    "        shuffeled_image3 = Image.fromarray(new)\n",
    "        shuffeled_image3.save(\"./pics/p{}{}.png\".format(i,j))\n",
    "        \n"
   ]
  }
 ],
 "metadata": {
  "kernelspec": {
   "display_name": "image-encryption-DiZABboh",
   "language": "python",
   "name": "python3"
  },
  "language_info": {
   "codemirror_mode": {
    "name": "ipython",
    "version": 3
   },
   "file_extension": ".py",
   "mimetype": "text/x-python",
   "name": "python",
   "nbconvert_exporter": "python",
   "pygments_lexer": "ipython3",
   "version": "3.10.9"
  },
  "orig_nbformat": 4,
  "vscode": {
   "interpreter": {
    "hash": "dd7e311cff0c076108f6498ca874f44e27b17066b18c1c9faac89cb86c76c1ba"
   }
  }
 },
 "nbformat": 4,
 "nbformat_minor": 2
}
