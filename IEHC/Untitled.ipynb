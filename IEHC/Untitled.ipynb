{
 "cells": [
  {
   "cell_type": "code",
   "execution_count": 2,
   "id": "54724440",
   "metadata": {},
   "outputs": [],
   "source": [
    "from PIL import Image \n",
    "import random\n",
    "from numpy import array \n",
    "import numpy as np\n",
    "img = Image.open('Lena.png')\n",
    "\n",
    "ar = array(img)"
   ]
  },
  {
   "cell_type": "code",
   "execution_count": 3,
   "id": "2d955691",
   "metadata": {
    "scrolled": true
   },
   "outputs": [
    {
     "data": {
      "text/plain": [
       "array([[160, 160, 160, ..., 169, 154, 129],\n",
       "       [161, 160, 159, ..., 168, 154, 129],\n",
       "       [160, 161, 160, ..., 168, 154, 129],\n",
       "       ...,\n",
       "       [ 50,  49,  55, ..., 106, 103, 104],\n",
       "       [ 49,  50,  58, ..., 107, 109, 111],\n",
       "       [ 50,  49,  59, ..., 107, 108, 112]], dtype=uint8)"
      ]
     },
     "execution_count": 3,
     "metadata": {},
     "output_type": "execute_result"
    }
   ],
   "source": [
    "ar"
   ]
  },
  {
   "cell_type": "code",
   "execution_count": 4,
   "id": "14b6be29",
   "metadata": {},
   "outputs": [],
   "source": [
    "ar2 = np.transpose(ar)"
   ]
  },
  {
   "cell_type": "code",
   "execution_count": 5,
   "id": "0f8380fa",
   "metadata": {},
   "outputs": [
    {
     "name": "stdout",
     "output_type": "stream",
     "text": [
      "[[160 161 160 ...  50  49  50]\n",
      " [160 160 161 ...  49  50  49]\n",
      " [160 159 160 ...  55  58  59]\n",
      " ...\n",
      " [169 168 168 ... 106 107 107]\n",
      " [154 154 154 ... 103 109 108]\n",
      " [129 129 129 ... 104 111 112]]\n"
     ]
    }
   ],
   "source": [
    "print(ar2)"
   ]
  },
  {
   "cell_type": "code",
   "execution_count": 6,
   "id": "782b9c25",
   "metadata": {},
   "outputs": [],
   "source": [
    "def shuffle_arr(arr):\n",
    "    row = len(arr)\n",
    "    col = len(arr[0])\n",
    "    for i in range(0,row):\n",
    "        for j in range(0,col):\n",
    "            arr[i][j] = ((row*row)+i+1)%256\n",
    "    for i in range(0,int(row/4)):\n",
    "        for j in range(int(col/4)):\n",
    "            arr[i][j] = (row*row + 1)%256 - arr[i][j]\n",
    "    for i in range(0, int(row/4)):\n",
    "        for j in range(3*int(col/3),col):\n",
    "            arr[i][j] = ((row*row)+1)%256-arr[i][j]\n",
    "    for i in range(3*(int(row/4)),row):\n",
    "        for i in range(0,int(col/4)):\n",
    "            arr[i][j] = (row*row+1)%256 - arr[i][j]\n",
    "    for i in range(int(row/4),3*int(row/4)):\n",
    "        for j in range(int(col/4),3*int(col/4)):\n",
    "            arr[i][j] = (row*row+1)%256 -arr[i][j]\n",
    "    \n",
    "    temp = np.array(arr)\n",
    "\n",
    "    for i in range(0,row):\n",
    "        for j in range(0,col):\n",
    "            rowindex = int((arr[i][j]-1)%row)\n",
    "            colindex = int((arr[i][j]-1)/col)\n",
    "            temp[i][j] = arr[rowindex][colindex]\n",
    "\n",
    "    return temp"
   ]
  },
  {
   "cell_type": "code",
   "execution_count": 7,
   "id": "68ec0151",
   "metadata": {},
   "outputs": [],
   "source": [
    "ar3 = shuffle_arr(ar2)"
   ]
  },
  {
   "cell_type": "code",
   "execution_count": 8,
   "id": "a08ea7ee",
   "metadata": {},
   "outputs": [
    {
     "data": {
      "text/plain": [
       "array([[  0,   0,   0, ...,   0,   0,   0],\n",
       "       [255, 255, 255, ..., 255, 255, 255],\n",
       "       [254, 254, 254, ..., 254, 254, 254],\n",
       "       ...,\n",
       "       [254, 254, 254, ..., 254, 254, 254],\n",
       "       [255, 255, 255, ..., 255, 255, 255],\n",
       "       [  0,   0,   0, ...,   0,   0,   0]], dtype=uint8)"
      ]
     },
     "execution_count": 8,
     "metadata": {},
     "output_type": "execute_result"
    }
   ],
   "source": [
    "ar3"
   ]
  },
  {
   "cell_type": "code",
   "execution_count": 9,
   "id": "2b8c9596",
   "metadata": {},
   "outputs": [],
   "source": [
    "shuffled_img3 = Image.fromarray(ar3)"
   ]
  },
  {
   "cell_type": "code",
   "execution_count": 10,
   "id": "bc5e59e0",
   "metadata": {},
   "outputs": [],
   "source": [
    "shuffled_img3.save('shuffeled_image3.png')"
   ]
  },
  {
   "cell_type": "code",
   "execution_count": 11,
   "id": "e8cd73d6",
   "metadata": {},
   "outputs": [],
   "source": [
    "def key_gen(r,c):\n",
    "    R = 3.99\n",
    "    random_float = random.uniform(0,1)\n",
    "    x = 0.4+(random_float/5)\n",
    "    key = np.zeros((r,c))\n",
    "    for i in range(0,r):\n",
    "        for j in range(0,c):\n",
    "            x = x*R*(1-x)\n",
    "            key[i][j] = x*255\n",
    "    \n",
    "    return key"
   ]
  },
  {
   "cell_type": "code",
   "execution_count": 12,
   "id": "51e2f7ff",
   "metadata": {},
   "outputs": [
    {
     "name": "stdout",
     "output_type": "stream",
     "text": [
      "[[249.0399228   23.22488505  84.22734159 ... 225.2855565  104.74508787\n",
      "  246.26067159]\n",
      " [ 33.67486275 116.61899428 252.50994636 ... 136.3044472  253.14956675\n",
      "    7.32965153]\n",
      " [ 28.40469027 100.71025358 243.13275432 ... 251.34485502  14.37498243\n",
      "   54.1228698 ]\n",
      " ...\n",
      " [218.2747526  125.42986359 254.29544508 ... 237.54468009  64.87925234\n",
      "  193.00478012]\n",
      " [187.2229074  198.55216896 175.36972059 ...  79.86229706 218.85383546\n",
      "  123.77960676]\n",
      " [254.14592396   3.39634972  13.37094356 ... 176.87166787 216.22183045\n",
      "  131.19568761]]\n"
     ]
    }
   ],
   "source": [
    "r = len(ar3)\n",
    "c = len(ar3[0])\n",
    "best_key = key_gen(r,c)\n",
    "print(best_key)"
   ]
  },
  {
   "cell_type": "code",
   "execution_count": 13,
   "id": "10c52409",
   "metadata": {},
   "outputs": [],
   "source": [
    "def encrypt(ar3,key):\n",
    "    r = len(ar3)\n",
    "    c = len(ar3[0])\n",
    "    for i in range(0,r):\n",
    "        for j in range(0,c):\n",
    "            ar3[i][j] = int(ar3[i][j]) ^ int(key[i][j])\n",
    "            \n",
    "    cipher_img = np.array(ar3)\n",
    "    for itr in range(0,int(r/16)):\n",
    "        for i in range(0,r):\n",
    "            for j in range(0,c):\n",
    "                xmap = int((i+j)%r)\n",
    "                ymap = int((i+2*j)%c)\n",
    "                cipher_img[i][j] = cipher_img[xmap][ymap]\n",
    "                \n",
    "    \n",
    "    \n",
    "    return cipher_img"
   ]
  },
  {
   "cell_type": "code",
   "execution_count": 14,
   "id": "52923a19",
   "metadata": {},
   "outputs": [
    {
     "name": "stdout",
     "output_type": "stream",
     "text": [
      "[[249 100 160 ...  39 109  52]\n",
      " [156 121 111 ...  77  79  52]\n",
      " [148 176  17 ...  59 109 156]\n",
      " ...\n",
      " [ 53  18 223 ...  66 105 126]\n",
      " [141  43 160 ... 118  10 212]\n",
      " [222 100 175 ... 146  42 118]]\n"
     ]
    }
   ],
   "source": [
    "encrypted_img_arr = encrypt(ar3,best_key)\n",
    "print(encrypted_img_arr)"
   ]
  },
  {
   "cell_type": "code",
   "execution_count": 15,
   "id": "23751945",
   "metadata": {},
   "outputs": [],
   "source": [
    "encrypted_img = Image.fromarray(encrypted_img_arr)"
   ]
  },
  {
   "cell_type": "code",
   "execution_count": 16,
   "id": "4ba77a65",
   "metadata": {},
   "outputs": [],
   "source": [
    "encrypted_img.save('encrypted_img.png')"
   ]
  },
  {
   "cell_type": "code",
   "execution_count": 17,
   "id": "57458e9c",
   "metadata": {},
   "outputs": [],
   "source": [
    "def correlation_coefficient(img1, img2):\n",
    "    # Ensure that the images have the same shape\n",
    "    assert img1.shape == img2.shape, \"The images have different shapes\"\n",
    "    \n",
    "    # Calculate the mean of the images\n",
    "    mean1 = np.mean(img1)\n",
    "    mean2 = np.mean(img2)\n",
    "    \n",
    "    # Calculate the standard deviation of the images\n",
    "    std1 = np.std(img1)\n",
    "    std2 = np.std(img2)\n",
    "    \n",
    "    # Subtract the mean from each pixel and divide by the standard deviation\n",
    "    normalized_img1 = (img1 - mean1) / std1\n",
    "    normalized_img2 = (img2 - mean2) / std2\n",
    "    \n",
    "    # Calculate the sum of the product of the corresponding pixels\n",
    "    sum_of_products = np.sum(normalized_img1 * normalized_img2)\n",
    "    \n",
    "    # Calculate the correlation coefficient\n",
    "    return sum_of_products / (img1.size - 1)"
   ]
  },
  {
   "cell_type": "code",
   "execution_count": 20,
   "id": "8a8f4bfa",
   "metadata": {},
   "outputs": [
    {
     "data": {
      "text/plain": [
       "0.0006540932847117972"
      ]
     },
     "execution_count": 20,
     "metadata": {},
     "output_type": "execute_result"
    }
   ],
   "source": [
    "correlation_coefficient(ar,encrypted_img_arr)"
   ]
  }
 ],
 "metadata": {
  "kernelspec": {
   "display_name": "image-encryption-DiZABboh",
   "language": "python",
   "name": "python3"
  },
  "language_info": {
   "codemirror_mode": {
    "name": "ipython",
    "version": 3
   },
   "file_extension": ".py",
   "mimetype": "text/x-python",
   "name": "python",
   "nbconvert_exporter": "python",
   "pygments_lexer": "ipython3",
   "version": "3.10.9"
  },
  "vscode": {
   "interpreter": {
    "hash": "dd7e311cff0c076108f6498ca874f44e27b17066b18c1c9faac89cb86c76c1ba"
   }
  }
 },
 "nbformat": 4,
 "nbformat_minor": 5
}
