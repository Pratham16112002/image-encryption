{
 "cells": [
  {
   "cell_type": "code",
   "execution_count": 2,
   "id": "54724440",
   "metadata": {},
   "outputs": [],
   "source": [
    "from PIL import Image \n",
    "import random\n",
    "from numpy import array \n",
    "import numpy as np\n",
    "\n",
    "img = Image.open('../Lena.png')\n",
    "\n",
    "ar = array(img)"
   ]
  },
  {
   "cell_type": "code",
   "execution_count": 3,
   "id": "2d955691",
   "metadata": {
    "scrolled": true
   },
   "outputs": [
    {
     "data": {
      "text/plain": [
       "array([[160, 160, 160, ..., 169, 154, 129],\n",
       "       [161, 160, 159, ..., 168, 154, 129],\n",
       "       [160, 161, 160, ..., 168, 154, 129],\n",
       "       ...,\n",
       "       [ 50,  49,  55, ..., 106, 103, 104],\n",
       "       [ 49,  50,  58, ..., 107, 109, 111],\n",
       "       [ 50,  49,  59, ..., 107, 108, 112]], dtype=uint8)"
      ]
     },
     "execution_count": 3,
     "metadata": {},
     "output_type": "execute_result"
    }
   ],
   "source": [
    "ar"
   ]
  },
  {
   "cell_type": "code",
   "execution_count": 4,
   "id": "14b6be29",
   "metadata": {},
   "outputs": [],
   "source": [
    "ar2 = np.transpose(ar)"
   ]
  },
  {
   "cell_type": "code",
   "execution_count": 5,
   "id": "0f8380fa",
   "metadata": {},
   "outputs": [
    {
     "name": "stdout",
     "output_type": "stream",
     "text": [
      "[[160 161 160 ...  50  49  50]\n",
      " [160 160 161 ...  49  50  49]\n",
      " [160 159 160 ...  55  58  59]\n",
      " ...\n",
      " [169 168 168 ... 106 107 107]\n",
      " [154 154 154 ... 103 109 108]\n",
      " [129 129 129 ... 104 111 112]]\n"
     ]
    }
   ],
   "source": [
    "print(ar2)"
   ]
  },
  {
   "cell_type": "code",
   "execution_count": 6,
   "id": "782b9c25",
   "metadata": {},
   "outputs": [],
   "source": [
    "def shuffle_arr(arr):\n",
    "    row = len(arr)\n",
    "    col = len(arr[0])\n",
    "    for i in range(0,row):\n",
    "        for j in range(0,col):\n",
    "            arr[i][j] = ((row*row)+i+1)%256\n",
    "    for i in range(0,int(row/4)):\n",
    "        for j in range(int(col/4)):\n",
    "            arr[i][j] = (row*row + 1)%256 - arr[i][j]\n",
    "    for i in range(0, int(row/4)):\n",
    "        for j in range(3*int(col/3),col):\n",
    "            arr[i][j] = ((row*row)+1)%256-arr[i][j]\n",
    "    for i in range(3*(int(row/4)),row):\n",
    "        for i in range(0,int(col/4)):\n",
    "            arr[i][j] = (row*row+1)%256 - arr[i][j]\n",
    "    for i in range(int(row/4),3*int(row/4)):\n",
    "        for j in range(int(col/4),3*int(col/4)):\n",
    "            arr[i][j] = (row*row+1)%256 -arr[i][j]\n",
    "    \n",
    "    temp = np.array(arr)\n",
    "\n",
    "    for i in range(0,row):\n",
    "        for j in range(0,col):\n",
    "            rowindex = int((arr[i][j]-1)%row)\n",
    "            colindex = int((arr[i][j]-1)/col)\n",
    "            temp[i][j] = arr[rowindex][colindex]\n",
    "\n",
    "    return temp"
   ]
  },
  {
   "cell_type": "code",
   "execution_count": 7,
   "id": "68ec0151",
   "metadata": {},
   "outputs": [],
   "source": [
    "ar3 = shuffle_arr(ar2)"
   ]
  },
  {
   "cell_type": "code",
   "execution_count": 8,
   "id": "a08ea7ee",
   "metadata": {},
   "outputs": [
    {
     "data": {
      "text/plain": [
       "array([[  0,   0,   0, ...,   0,   0,   0],\n",
       "       [255, 255, 255, ..., 255, 255, 255],\n",
       "       [254, 254, 254, ..., 254, 254, 254],\n",
       "       ...,\n",
       "       [254, 254, 254, ..., 254, 254, 254],\n",
       "       [255, 255, 255, ..., 255, 255, 255],\n",
       "       [  0,   0,   0, ...,   0,   0,   0]], dtype=uint8)"
      ]
     },
     "execution_count": 8,
     "metadata": {},
     "output_type": "execute_result"
    }
   ],
   "source": [
    "ar3"
   ]
  },
  {
   "cell_type": "code",
   "execution_count": 9,
   "id": "2b8c9596",
   "metadata": {},
   "outputs": [],
   "source": [
    "shuffled_img3 = Image.fromarray(ar3)"
   ]
  },
  {
   "cell_type": "code",
   "execution_count": 10,
   "id": "bc5e59e0",
   "metadata": {},
   "outputs": [],
   "source": [
    "shuffled_img3.save('shuffeled_image3.png')"
   ]
  },
  {
   "cell_type": "code",
   "execution_count": 11,
   "id": "e8cd73d6",
   "metadata": {},
   "outputs": [],
   "source": [
    "def key_gen(r,c):\n",
    "    R = 3.99\n",
    "    random_float = random.uniform(0,1)\n",
    "    x = 0.4+(random_float/5)\n",
    "    key = np.zeros((r,c))\n",
    "    for i in range(0,r):\n",
    "        for j in range(0,c):\n",
    "            x = x*R*(1-x)\n",
    "            key[i][j] = x*255\n",
    "    \n",
    "    return key"
   ]
  },
  {
   "cell_type": "code",
   "execution_count": 12,
   "id": "51e2f7ff",
   "metadata": {},
   "outputs": [
    {
     "name": "stdout",
     "output_type": "stream",
     "text": [
      "[[248.31429786  25.9765497   93.08809319 ... 233.03403184  80.09444828\n",
      "  219.19907854]\n",
      " [122.7907478  254.0154943    3.91301182 ... 196.78169066 179.25735837\n",
      "  212.44678102]\n",
      " [141.45401816 251.31578884  14.48761855 ...  12.64426102  47.94899139\n",
      "  155.34223233]\n",
      " ...\n",
      " [245.42401344  36.7733586  125.56649762 ... 233.22514296  79.4627143\n",
      "  218.25564721]\n",
      " [125.48413088 254.2989146    2.78963988 ... 127.45887394 254.36247354\n",
      "    2.537371  ]\n",
      " [ 10.0233706   38.42122065 130.20263557 ...  78.37756941 216.60594073\n",
      "  130.12690783]]\n"
     ]
    }
   ],
   "source": [
    "r = len(ar3)\n",
    "c = len(ar3[0])\n",
    "best_key = key_gen(r,c)\n",
    "print(best_key)"
   ]
  },
  {
   "cell_type": "code",
   "execution_count": 13,
   "id": "10c52409",
   "metadata": {},
   "outputs": [],
   "source": [
    "def encrypt(ar3,key):\n",
    "    r = len(ar3)\n",
    "    c = len(ar3[0])\n",
    "    for i in range(0,r):\n",
    "        for j in range(0,c):\n",
    "            ar3[i][j] = int(ar3[i][j]) ^ int(key[i][j])\n",
    "            \n",
    "    cipher_img = np.array(ar3)\n",
    "    for itr in range(0,int(r/16)):\n",
    "        for i in range(0,r):\n",
    "            for j in range(0,c):\n",
    "                xmap = int((i+j)%r)\n",
    "                ymap = int((i+2*j)%c)\n",
    "                cipher_img[i][j] = cipher_img[xmap][ymap]\n",
    "                \n",
    "    \n",
    "    \n",
    "    return ar3"
   ]
  },
  {
   "cell_type": "code",
   "execution_count": 14,
   "id": "52923a19",
   "metadata": {},
   "outputs": [
    {
     "name": "stdout",
     "output_type": "stream",
     "text": [
      "[[248  25  93 ... 233  80 219]\n",
      " [133   1 252 ...  59  76  43]\n",
      " [115   5 240 ... 242 209 101]\n",
      " ...\n",
      " [ 11 218 131 ...  23 177  36]\n",
      " [130   1 253 ... 128   1 253]\n",
      " [ 10  38 130 ...  78 216 130]]\n"
     ]
    }
   ],
   "source": [
    "encrypted_img_arr = encrypt(ar3,best_key)\n",
    "print(encrypted_img_arr)"
   ]
  },
  {
   "cell_type": "code",
   "execution_count": 15,
   "id": "23751945",
   "metadata": {},
   "outputs": [],
   "source": [
    "encrypted_img = Image.fromarray(encrypted_img_arr)"
   ]
  },
  {
   "cell_type": "code",
   "execution_count": 16,
   "id": "4ba77a65",
   "metadata": {},
   "outputs": [],
   "source": [
    "encrypted_img.save('encrypted_img.png')"
   ]
  },
  {
   "cell_type": "code",
   "execution_count": 17,
   "id": "57458e9c",
   "metadata": {},
   "outputs": [],
   "source": [
    "def correlation_coefficient(img1, img2):\n",
    "    # Ensure that the images have the same shape\n",
    "    assert img1.shape == img2.shape, \"The images have different shapes\"\n",
    "    \n",
    "    # Calculate the mean of the images\n",
    "    mean1 = np.mean(img1)\n",
    "    mean2 = np.mean(img2)\n",
    "    \n",
    "    # Calculate the standard deviation of the images\n",
    "    std1 = np.std(img1)\n",
    "    std2 = np.std(img2)\n",
    "    \n",
    "    # Subtract the mean from each pixel and divide by the standard deviation\n",
    "    normalized_img1 = (img1 - mean1) / std1\n",
    "    normalized_img2 = (img2 - mean2) / std2\n",
    "    \n",
    "    # Calculate the sum of the product of the corresponding pixels\n",
    "    sum_of_products = np.sum(normalized_img1 * normalized_img2)\n",
    "    \n",
    "    # Calculate the correlation coefficient\n",
    "    return sum_of_products / (img1.size - 1)"
   ]
  },
  {
   "cell_type": "code",
   "execution_count": 18,
   "id": "8a8f4bfa",
   "metadata": {},
   "outputs": [
    {
     "data": {
      "text/plain": [
       "0.0005462112046362731"
      ]
     },
     "execution_count": 18,
     "metadata": {},
     "output_type": "execute_result"
    }
   ],
   "source": [
    "correlation_coefficient(ar,encrypted_img_arr)\n"
   ]
  },
  {
   "cell_type": "code",
   "execution_count": 19,
   "id": "e0eecade",
   "metadata": {},
   "outputs": [],
   "source": [
    "\n",
    "def NPCR(img1, img2):\n",
    "    \"\"\"\n",
    "    Calculate the NPCR value\n",
    "    Bigger the better\n",
    "    [0-100]\n",
    "    Parameters:\n",
    "        img1 = Encrypted image 1\n",
    "        img2 = Encrypted image 2 with one pixel changed\n",
    "    Returns:\n",
    "        NPCR value\n",
    "     \"\"\"\n",
    "    height, width = img1.shape\n",
    "    sum = 0\n",
    "    for i in range(height):\n",
    "        for j in range(width):\n",
    "            if img1[i, j] != img2[i, j]:\n",
    "                sum += 1\n",
    "    res = ((sum)/(width*height))*100\n",
    "    return res\n",
    "\n",
    "\n",
    "def UACI(img1, img2):\n",
    "    \"\"\"\n",
    "    Calculate the UACI value\n",
    "    Bigger the Better\n",
    "    Parameters:\n",
    "        img1 = Encrypted image 1\n",
    "        img2 = Encrypted image 2 with one pixel changed\n",
    "    Returns:\n",
    "        UACI value\n",
    "    \"\"\"\n",
    "    height, width = img1.shape\n",
    "    difference = 0\n",
    "    for y in range(height):\n",
    "        for x in range(width):\n",
    "            difference += (abs(int(img1[x, y])-int(img2[x, y])))\n",
    "    difference = ((difference*100)/(width*height*255))\n",
    "    return difference\n",
    "\n",
    "\n",
    "def NPCR_UACI_worker(img1, img2):\n",
    "    \"\"\"\n",
    "    Calculate the NPCR & UACI worker\n",
    "    Parameters:\n",
    "        img1 = Encrypted image 1\n",
    "    Returns:\n",
    "        NPCR value\n",
    "    \"\"\"\n",
    "    return NPCR(img1, img2), UACI(img1, img2)\n"
   ]
  },
  {
   "cell_type": "code",
   "execution_count": 22,
   "id": "16f57e29",
   "metadata": {},
   "outputs": [],
   "source": [
    "img2 = np.copy(ar3)\n",
    "x = random.randint(0, 254)\n",
    "y = random.randint(0, 254)\n",
    "img2[x][y] = random.randint(0, 254)\n",
    "img2 = encrypt(img2, best_key)"
   ]
  },
  {
   "cell_type": "code",
   "execution_count": 25,
   "id": "ac6183bb",
   "metadata": {},
   "outputs": [
    {
     "data": {
      "text/plain": [
       "(100.0, 33.707600013882505)"
      ]
     },
     "execution_count": 25,
     "metadata": {},
     "output_type": "execute_result"
    }
   ],
   "source": [
    "NPCR_UACI_worker(ar3,img2)"
   ]
  }
 ],
 "metadata": {
  "kernelspec": {
   "display_name": "image-encryption-DiZABboh",
   "language": "python",
   "name": "python3"
  },
  "language_info": {
   "codemirror_mode": {
    "name": "ipython",
    "version": 3
   },
   "file_extension": ".py",
   "mimetype": "text/x-python",
   "name": "python",
   "nbconvert_exporter": "python",
   "pygments_lexer": "ipython3",
   "version": "3.10.9"
  },
  "vscode": {
   "interpreter": {
    "hash": "dd7e311cff0c076108f6498ca874f44e27b17066b18c1c9faac89cb86c76c1ba"
   }
  }
 },
 "nbformat": 4,
 "nbformat_minor": 5
}
